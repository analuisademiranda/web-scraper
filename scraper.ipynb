{
  "nbformat": 4,
  "nbformat_minor": 0,
  "metadata": {
    "colab": {
      "provenance": []
    },
    "kernelspec": {
      "name": "python3",
      "display_name": "Python 3"
    },
    "language_info": {
      "name": "python"
    }
  },
  "cells": [
    {
      "cell_type": "code",
      "execution_count": null,
      "metadata": {
        "id": "SxJonUCt1hd4"
      },
      "outputs": [],
      "source": [
        "#American Political Science Review\n",
        "\n",
        "from bs4 import BeautifulSoup\n",
        "import requests\n",
        "import pandas as pd\n",
        "\n",
        "base_url = \"https://www.cambridge.org/core/journals/american-political-science-review/listing?q=anger+AND+gender&searchWithinIds=833A7242AC7B607BA7F6168DA072DB3B%2CDEF6D9E6432F4E804AD2D9416C8C2165&fts=yes\"\n",
        "\n",
        "for page in range(1, 8):  # Coleta a quantidade de paginas (nesse caso 7)\n",
        "    url = base_url + str(page)\n",
        "    response = requests.get(url)\n",
        "    soup = BeautifulSoup(response.text, 'html.parser')\n",
        "\n",
        "# Listas para armazenar os dados\n",
        "titles = []\n",
        "abstracts = []\n",
        "dates = []\n",
        "authors = []\n",
        "journals = []\n",
        "\n",
        "# Extrai os dados\n",
        "for article in soup.find_all('div', class_='representation overview search'):\n",
        "    title = article.find('li', class_ = 'title').text.strip()\n",
        "    abstract_element = article.find('div', class_='abstract')\n",
        "    abstract = abstract_element.text.strip() if abstract_element else \"N/A\" #Quando não tem abstract vem como N/A\n",
        "    date = article.find('span', class_='date').text.strip()\n",
        "    author = article.find('li', class_='author').text.strip()\n",
        "    journal = \"American Political Science Review\"  # Nesse caso, busquei apenas nessa revista\n",
        "\n",
        "    # Adiciona os dados às listas\n",
        "    titles.append(title)\n",
        "    abstracts.append(abstract)\n",
        "    dates.append(date)\n",
        "    authors.append(author)\n",
        "    journals.append(journal)\n",
        "\n",
        "# Cria um DataFrame com os dados\n",
        "data = {\n",
        "    'Título': titles,\n",
        "    'Abstract': abstracts,\n",
        "    'Data': dates,\n",
        "    'Autores': authors,\n",
        "    'Revista': journals\n",
        "}\n",
        "df = pd.DataFrame(data)\n",
        "\n",
        "# Salva os dados em um arquivo Excel\n",
        "df.to_excel('american_political_science_review.xlsx', index=False)\n",
        "\n",
        "\n"
      ]
    }
  ]
}