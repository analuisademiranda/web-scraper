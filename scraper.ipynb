#The Journal of Politics

from bs4 import BeautifulSoup
import requests
import pandas as pd

base_url = "https://www.cambridge.org/core/journals/american-political-science-review/listing?q=anger+AND+gender&searchWithinIds=833A7242AC7B607BA7F6168DA072DB3B%2CDEF6D9E6432F4E804AD2D9416C8C2165&fts=yes"

for page in range(1, 8):  # Coleta a quantidade de paginas (nesse caso 7)
    url = base_url + str(page)
    response = requests.get(url)
    soup = BeautifulSoup(response.text, 'html.parser')

# Listas para armazenar os dados
titles = []
abstracts = []
dates = []
authors = []
journals = []

# Extrai os dados 
for article in soup.find_all('div', class_='representation overview search'): 
    title = article.find('li', class_ = 'title').text.strip()  
    abstract_element = article.find('div', class_='abstract')
    abstract = abstract_element.text.strip() if abstract_element else "N/A" #Quando não tem abstract vem como N/A
    date = article.find('span', class_='date').text.strip()  
    author = article.find('li', class_='author').text.strip() 
    journal = "The Journal of Politics"  # Fixo, pois é sempre a APSR

    # Adiciona os dados às listas
    titles.append(title)
    abstracts.append(abstract)
    dates.append(date)
    authors.append(author)
    journals.append(journal)

# Cria um DataFrame com os dados
data = {
    'Título': titles,
    'Abstract': abstracts,
    'Data': dates,
    'Autores': authors,
    'Revista': journals
}
df = pd.DataFrame(data)

# Salva os dados em um arquivo Excel
df.to_excel('the_journal_of_politics.xlsx', index=False)
